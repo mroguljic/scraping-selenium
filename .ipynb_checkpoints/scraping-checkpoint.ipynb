{
 "cells": [
  {
   "cell_type": "code",
   "execution_count": 1,
   "metadata": {},
   "outputs": [
    {
     "ename": "ModuleNotFoundError",
     "evalue": "No module named 'selenium'",
     "output_type": "error",
     "traceback": [
      "\u001b[1;31m---------------------------------------------------------------------------\u001b[0m",
      "\u001b[1;31mModuleNotFoundError\u001b[0m                       Traceback (most recent call last)",
      "\u001b[1;32m<ipython-input-1-caa8641e0fd9>\u001b[0m in \u001b[0;36m<module>\u001b[1;34m()\u001b[0m\n\u001b[1;32m----> 1\u001b[1;33m \u001b[1;32mfrom\u001b[0m \u001b[0mselenium\u001b[0m \u001b[1;32mimport\u001b[0m \u001b[0mwebdriver\u001b[0m\u001b[1;33m\u001b[0m\u001b[0m\n\u001b[0m\u001b[0;32m      2\u001b[0m \u001b[1;32mimport\u001b[0m \u001b[0mdatefinder\u001b[0m\u001b[1;33m\u001b[0m\u001b[0m\n\u001b[0;32m      3\u001b[0m \u001b[1;33m\u001b[0m\u001b[0m\n\u001b[0;32m      4\u001b[0m \u001b[1;32mdef\u001b[0m \u001b[0mscrape\u001b[0m\u001b[1;33m(\u001b[0m\u001b[0mURL\u001b[0m\u001b[1;33m,\u001b[0m \u001b[0mfirstTag\u001b[0m\u001b[1;33m,\u001b[0m \u001b[0misFirstTagDate\u001b[0m\u001b[1;33m=\u001b[0m\u001b[1;32mTrue\u001b[0m\u001b[1;33m)\u001b[0m\u001b[1;33m:\u001b[0m\u001b[1;33m\u001b[0m\u001b[0m\n\u001b[0;32m      5\u001b[0m     \u001b[0mbrowser\u001b[0m \u001b[1;33m=\u001b[0m \u001b[0mwebdriver\u001b[0m\u001b[1;33m.\u001b[0m\u001b[0mChrome\u001b[0m\u001b[1;33m(\u001b[0m\u001b[1;33m)\u001b[0m\u001b[1;33m\u001b[0m\u001b[0m\n",
      "\u001b[1;31mModuleNotFoundError\u001b[0m: No module named 'selenium'"
     ]
    }
   ],
   "source": [
    "from selenium import webdriver\n",
    "import datefinder\n",
    "\n",
    "def scrape(URL, firstTag, isFirstTagDate=True):\n",
    "    browser = webdriver.Chrome()\n",
    "\n",
    "    browser.get(URL)\n",
    "    paragraphs = browser.find_elements_by_xpath(firstTag)\n",
    "\n",
    "    for i,element in enumerate(paragraphs):\n",
    "        \n",
    "        #skip empty dates/titles\n",
    "        if not element.text:\n",
    "            continue\n",
    "            \n",
    "        followingElement = element.find_element_by_xpath(\"following-sibling::*\")\n",
    "        if(isFirstTagDate):\n",
    "            date=list(datefinder.find_dates(element.text))[0].strftime(\"%y-%m-%d\")\n",
    "            title=followingElement.text\n",
    "        else:\n",
    "            date=list(datefinder.find_dates(followingElement.text))[0].strftime(\"%y-%m-%d\")\n",
    "            title=element.text            \n",
    "        \n",
    "        print('Date: '+date)\n",
    "        print('Title: '+title)\n",
    "        print(\"\\n\")\n",
    "\n",
    "    browser.quit() #quit zatvori tab, close zatvori prozor\n"
   ]
  },
  {
   "cell_type": "code",
   "execution_count": 3,
   "metadata": {},
   "outputs": [
    {
     "name": "stdout",
     "output_type": "stream",
     "text": [
      "Date: 19-02-13\n",
      "Title: Dugoročni kredit u kunama – obavijest o izmjeni roka za dostavu ponuda\n",
      "\n",
      "\n",
      "Date: 19-02-13\n",
      "Title: JAVNI POZIV- HEP-Operator distribucijskog sustava d.o.o. ,HR-10000 Zagreb, Ulica grada Vukovara 37 – uvid u spis predmeta u postupku izdavanja građevinske dozvole za građenje građevine infrastrukturne namjene energetskog sustava (distribucija električne energije), 2. skupine-transformatorska stanica TS 10(20)/0,4 kV Osijek 292 i građenje građevine infrastrukturne namjene energetskog sustava (distribucija električne energije), 2. skupine – kabel KB 10(20) kV interpolacija TS Osijek 292 na novoformiranoj građevnoj čestici 10145/24 k.o. Osijek (Vukovarska), 10145/19 i 10145/9 k.o. Osijek (Vukovarska)\n",
      "\n",
      "\n",
      "Date: 19-02-13\n",
      "Title: JAVNI POZIV – HEP -Operator distribucijskog sustava d.o.o. , HR-10000 Zagreb, Ulica grada Vukovara 37 – uvid u spis predmeta u postupku izdavanja građevinske dozvole za građenje građevine infrastrukturne namjene energetskog sustava (distribucija električne energije), 2. skupine – KB 10(20) kV interpolacija TS Josipovac 16 na postojećoj čestici k.č.br. 2697/1, 653, 2668, 61/2 i 31/3 k.o. Josipovac (Josipovac)\n",
      "\n",
      "\n",
      "Date: 19-02-13\n",
      "Title: Natječaj o prodaji nekretnina\n",
      "\n",
      "\n",
      "Date: 19-06-02\n",
      "Title: OBAVIJEST o otvaranju pristiglih ponuda – za siječanj 2019.\n",
      "\n",
      "\n",
      "Date: 19-05-02\n",
      "Title: Natjecaj za prodaju drvarnica-sporednih dijelova poslovnih prostora u Osijeku, Županijska 15 i Ulica Hrvatske Republike 26\n",
      "\n",
      "\n",
      "Date: 19-04-02\n",
      "Title: 1. Izmjene i dopune Plana nabave za 2019.\n",
      "\n",
      "\n",
      "Date: 19-01-31\n",
      "Title: Javni poziv za uvid u spis predmeta u postupku izdavanja građevinske dozvole za građenje građevine infrastrukturne namjene – javna rasvjeta u Srijemskoj ulici, kčbr.6799. 6981 i dr. k.o. Osijek\n",
      "\n",
      "\n",
      "Date: 19-01-31\n",
      "Title: Javni poziv za uvid u spis predmeta u postupku izdavanja građevinske dozvole za građenje građevine infrastrukturne namjene – javna rasvjeta u Frankopanskoj ulici, kčbr.11607. 11611 i dr. k.o. Osijek\n",
      "\n",
      "\n",
      "Date: 19-01-30\n",
      "Title: Poziv za dostavu ponuda – dugoročni kredit u kunama\n",
      "\n",
      "\n",
      "Date: 19-01-28\n",
      "Title: Izmjena Otvorenog javnog poziva – Projekt obnove kulturnih dobara na području grada Osijeka\n",
      "\n",
      "\n",
      "Date: 19-01-26\n",
      "Title: Javni natječaj za financiranje projekata i programa udruga iz Proračuna Grada Osijeka u 2019. sa natječajnom dokumentacijom\n",
      "\n",
      "\n",
      "Date: 19-01-25\n",
      "Title: Poziv za dostavu ponuda za izvođenje građevinskih radova na održavanju objekata u vlasništvu Grada\n",
      "\n",
      "\n",
      "Date: 19-01-23\n",
      "Title: Javni poziv za uvid u spis predmeta, Panturist d.d., Osijek, za uvid u postupku izdavanja građevinske dozvole za rekonstrukciju građevine infrastrukturne namjene prometnog sustava, B. Kašića 70, kčbr.8936/12 k.o. Osijek\n",
      "\n",
      "\n",
      "Date: 19-01-23\n",
      "Title: JAVNI NATJEČAJ za osnivanje prava građenja na nekretninama u Poduzetničkoj zoni „IT park“\n",
      "\n",
      "\n",
      "Date: 19-01-18\n",
      "Title: Poziv za dostavu ponuda – usluge digitalne javne rasprave „Čist račun – osječki proračun“\n",
      "\n",
      "\n",
      "Date: 19-01-17\n",
      "Title: NATJEČAJ o prodaji zemljišta kčbr. 9121/1 u k.o. Osijek\n",
      "\n",
      "\n",
      "Date: 19-07-01\n",
      "Title: JAVNI POZIV – KLINIČKI BOLNIČKI CENTAR OSIJEK, HR-31000 Osijek, J. Huttlera 4 – uvid u spis predmeta u postupku izdavanja građevinske dozvole za građenje građevine javne i društvene namjene (zdravstvena ustanova), 2. skupine – OBJEDINJENI HITNI BOLNIČKI PRIJEM I DNEVNA BOLNICA na novoformiranoj građevnoj čestici k.č.br. 6686 k.o. Osijek (Osijek, Josipa Huttlera 4).\n",
      "\n",
      "\n",
      "Date: 19-04-01\n",
      "Title: JAVNI POZIV – GRAD OSIJEK, HR-31000 Osijek, Franje Kuhača 9 – uvid u spis predmeta u postupku izdavanja građevinske dozvole za građenje građevine infrastrukturne namjene prometnog sustava 2. skupine – biciklistička staza u Huttlerovoj ulici u Osijeku (od M.Divalta do C. Hadrijana), na postojećim katastarskim česticama k.č.br. 8948/2, 7211, 11817, 6776/3, 6766, 8986, 7343, 8982/1, 7344 i 8979 k.o. Osijek (Osijek, J. Huttlera (od M.Divalta do C. Hadrijana)).\n",
      "\n",
      "\n",
      "Date: 18-12-31\n",
      "Title: JAVNI POZIV – GRAD OSIJEK, HR-31000 Osijek, Franje Kuhača 9 – uvid u spis predmeta u postupku izdavanja Građevinske dozvole za rekonstrukciju građevine infrastrukturne namjene prometnog sustava 2. skupine – biciklistička staza Osijek-Tenja na postojećim katastarskim česticama k.č.br. 10607/2, 11418/3, 11433/3 i 11251 k.o. Osijek, i k.č.br. 3780 k.o. Tenja (Osijek, Osijek-Tenja)\n",
      "\n",
      "\n",
      "Date: 18-12-28\n",
      "Title: Natječaj za zakup poslovnih prostora\n",
      "\n",
      "\n",
      "Date: 18-12-28\n",
      "Title: Natječaj za davanje u zakup zemljišta na javnim površinama radi postavljanja kioska na području grada Osijeka\n",
      "\n",
      "\n",
      "Date: 18-12-24\n",
      "Title: Plan nabave za 2019.\n",
      "\n",
      "\n",
      "Date: 18-12-24\n",
      "Title: 6. izmjene i dopune Plana nabave za 2018.\n",
      "\n",
      "\n"
     ]
    }
   ],
   "source": [
    "scrape('https://www.osijek.hr/arhiva-natjecaja/',\"//p[@class='natjecaji-datumi']\",True)"
   ]
  },
  {
   "cell_type": "code",
   "execution_count": 2,
   "metadata": {},
   "outputs": [
    {
     "ename": "ModuleNotFoundError",
     "evalue": "No module named 'urllib2'",
     "output_type": "error",
     "traceback": [
      "\u001b[1;31m---------------------------------------------------------------------------\u001b[0m",
      "\u001b[1;31mModuleNotFoundError\u001b[0m                       Traceback (most recent call last)",
      "\u001b[1;32m<ipython-input-2-5bb13d7a180b>\u001b[0m in \u001b[0;36m<module>\u001b[1;34m()\u001b[0m\n\u001b[1;32m----> 1\u001b[1;33m \u001b[1;32mimport\u001b[0m \u001b[0murllib2\u001b[0m\u001b[1;33m\u001b[0m\u001b[0m\n\u001b[0m\u001b[0;32m      2\u001b[0m \u001b[1;32mfrom\u001b[0m \u001b[0mbs4\u001b[0m \u001b[1;32mimport\u001b[0m \u001b[0mBeautifulSoup\u001b[0m\u001b[1;33m\u001b[0m\u001b[0m\n",
      "\u001b[1;31mModuleNotFoundError\u001b[0m: No module named 'urllib2'"
     ]
    }
   ],
   "source": [
    "import urllib2\n",
    "from bs4 import BeautifulSoup"
   ]
  },
  {
   "cell_type": "code",
   "execution_count": null,
   "metadata": {},
   "outputs": [],
   "source": []
  }
 ],
 "metadata": {
  "kernelspec": {
   "display_name": "Python 3",
   "language": "python",
   "name": "python3"
  },
  "language_info": {
   "codemirror_mode": {
    "name": "ipython",
    "version": 3
   },
   "file_extension": ".py",
   "mimetype": "text/x-python",
   "name": "python",
   "nbconvert_exporter": "python",
   "pygments_lexer": "ipython3",
   "version": "3.6.5"
  }
 },
 "nbformat": 4,
 "nbformat_minor": 2
}
